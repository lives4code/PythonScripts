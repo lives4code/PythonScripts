{
 "cells": [
  {
   "cell_type": "code",
   "execution_count": 42,
   "id": "07074593",
   "metadata": {},
   "outputs": [
    {
     "name": "stdout",
     "output_type": "stream",
     "text": [
      "Dist, s1 r1 with whitening\n",
      "25255.95768507493\n",
      "Dist, s1 r2 with whitening\n",
      "25255.95768507493\n",
      "Dist, s2 r1 with whitening\n",
      "27628.66100670931\n",
      "Dist, s2 r2 with whitening\n",
      "27628.66100670931\n"
     ]
    },
    {
     "name": "stderr",
     "output_type": "stream",
     "text": [
      "/home/jacob/anaconda3/lib/python3.9/site-packages/sklearn/decomposition/_fastica.py:462: UserWarning: Ignoring n_components with whiten=False.\n",
      "  warnings.warn('Ignoring n_components with whiten=False.')\n"
     ]
    },
    {
     "name": "stdout",
     "output_type": "stream",
     "text": [
      "Dist, s1 r1 with whitening\n",
      "8191.582202279567\n",
      "Dist, s1 r2 with whitening\n",
      "8191.582202279567\n",
      "Dist, s2 r1 with whitening\n",
      "19032.797610563084\n",
      "Dist, s2 r2 with whitening\n",
      "19032.797610563084\n"
     ]
    }
   ],
   "source": [
    "import matplotlib.pyplot as plt\n",
    "from scipy.io import wavfile\n",
    "import numpy as np\n",
    "from sklearn.decomposition import FastICA, PCA\n",
    "from scipy.spatial import distance\n",
    "filename=\"answers.txt\"\n",
    "\n",
    "def readCenter(name):\n",
    "    #read file\n",
    "    rate1, data = wavfile.read(name)\n",
    "    #center data\n",
    "    data = data-np.mean(data)\n",
    "    data = data/32768\n",
    "    return data\n",
    "\n",
    "def applyICA(data1, data2, _whiten):\n",
    "    # Creating a matrix out of the signals\n",
    "    X = np.c_[data1, data2]\n",
    "    ica= FastICA(n_components=2, whiten = _whiten)\n",
    "    #s is the transformed data \n",
    "    S_ = ica.fit_transform(X)\n",
    "    return S_\n",
    "\n",
    "def getChannels(data):\n",
    "    r1 = []\n",
    "    r2 = []\n",
    "    for i in range(len(data)):\n",
    "        r1.append(data[i][0])\n",
    "        r2.append(data[i][0])\n",
    "    return r1, r2\n",
    "\n",
    "\n",
    "    \n",
    "def printDistance(x, y):\n",
    "    d = round(distance.cityblock(x, y), 2)\n",
    "    return (\"distance\" + str(x) + str(y) + str(distance.cityblock(x, y, 2)) )\n",
    "\n",
    "def transformData(file1, file2, _whitening):\n",
    "    data1 = readCenter(file1)\n",
    "    data2 = readCenter(file2)\n",
    "    S_ = applyICA(data1, data2, _whitening)\n",
    "    r1, r2 = getChannels(S_)\n",
    "    return data1, data2, r1, r2\n",
    "    \n",
    "s1, s2, r1, r2, = transformData(\"sounds_mixedX.wav\",\"sounds_mixedY.wav\", True)\n",
    "\n",
    "#I tried to put htis ins a funciton but it's not working. \n",
    "print(\"Dist, s1 r1 with whitening\")\n",
    "print(distance.cityblock(s1, r1))\n",
    "print(\"Dist, s1 r2 with whitening\")\n",
    "print(distance.cityblock(s1, r2))\n",
    "print(\"Dist, s2 r1 with whitening\")\n",
    "print(distance.cityblock(s2, r1))\n",
    "print(\"Dist, s2 r2 with whitening\")\n",
    "print(distance.cityblock(s2, r2))\n",
    "\n",
    "s1, s2, r1, r2, = transformData(\"sounds_mixedX.wav\",\"sounds_mixedY.wav\", False)\n",
    "print(\"Dist, s1 r1 with whitening\")\n",
    "print(distance.cityblock(s1, r1))\n",
    "print(\"Dist, s1 r2 with whitening\")\n",
    "print(distance.cityblock(s1, r2))\n",
    "print(\"Dist, s2 r1 with whitening\")\n",
    "print(distance.cityblock(s2, r1))\n",
    "print(\"Dist, s2 r2 with whitening\")\n",
    "print(distance.cityblock(s2, r2))\n"
   ]
  },
  {
   "cell_type": "markdown",
   "id": "c0f03afc",
   "metadata": {},
   "source": [
    "The whitening reduced the manhatten distance between the points. \n",
    "The whitening applies a noise component which allows for random error and can increase the accuracy of the model. "
   ]
  }
 ],
 "metadata": {
  "kernelspec": {
   "display_name": "Python 3 (ipykernel)",
   "language": "python",
   "name": "python3"
  },
  "language_info": {
   "codemirror_mode": {
    "name": "ipython",
    "version": 3
   },
   "file_extension": ".py",
   "mimetype": "text/x-python",
   "name": "python",
   "nbconvert_exporter": "python",
   "pygments_lexer": "ipython3",
   "version": "3.9.7"
  }
 },
 "nbformat": 4,
 "nbformat_minor": 5
}

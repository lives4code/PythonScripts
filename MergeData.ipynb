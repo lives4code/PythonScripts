{
 "cells": [
  {
   "cell_type": "code",
   "execution_count": 2,
   "id": "016ee8f8",
   "metadata": {},
   "outputs": [],
   "source": [
    "import pandas as pd\n",
    "import numpy as np\n",
    "import csv\n"
   ]
  },
  {
   "cell_type": "code",
   "execution_count": 3,
   "id": "f97c5527",
   "metadata": {},
   "outputs": [],
   "source": [
    "df = pd.read_csv(\"statesMinimumWages.csv\")\n",
    "df2 = pd.read_csv(\"projectFile.csv\")\n",
    "df3 = pd.read_excel(\"MinWage_byCounty.xlsx\")"
   ]
  },
  {
   "cell_type": "code",
   "execution_count": 4,
   "id": "32dbe6da",
   "metadata": {},
   "outputs": [
    {
     "name": "stdout",
     "output_type": "stream",
     "text": [
      "        state   wage\n",
      "0     Alabama   7.25\n",
      "1      Alaska  10.34\n",
      "2     Arizona  12.80\n",
      "3    Arkansas  11.00\n",
      "4  California  15.00\n",
      "           Locality  maxMinimumWage\n",
      "0      Alameda, CA            15.00\n",
      "1  Albuquerque, NM             7.50\n",
      "2       Bangor, ME             9.75\n",
      "3      Belmont, CA            15.90\n",
      "4     Berkeley, CA            15.00\n",
      "     State       County  Minimum Wage\n",
      "0  Alabama  Autauga, AL           NaN\n",
      "1  Alabama  Baldwin, AL           NaN\n",
      "2  Alabama  Barbour, AL           NaN\n",
      "3  Alabama     Bibb, AL           NaN\n",
      "4  Alabama   Blount, AL           NaN\n"
     ]
    }
   ],
   "source": [
    "print(df.head())\n",
    "print(df2.head())\n",
    "print(df3.head())"
   ]
  },
  {
   "cell_type": "code",
   "execution_count": 5,
   "id": "eb223520",
   "metadata": {},
   "outputs": [],
   "source": [
    "df = pd.read_csv(\"statesMinimumWages.csv\")\n",
    "df2 = pd.read_csv(\"projectFile.csv\")\n",
    "df3 = pd.read_excel(\"MinWage_byCounty.xlsx\")\n",
    "df3 = df3.merge(df, how = 'inner', left_on = 'State', right_on = 'state')\n",
    "df3 = df3.drop(columns=['state'])\n",
    "df3 = df3.merge(df2, how = 'left', left_on = 'County', right_on = 'Locality')\n",
    "df3['Minimum Wage'] = df3[['wage', 'maxMinimumWage']].max(axis=1)\n",
    "df3 = df3.drop(columns=['wage', 'Locality', 'maxMinimumWage'])"
   ]
  },
  {
   "cell_type": "code",
   "execution_count": 6,
   "id": "c7a279e0",
   "metadata": {},
   "outputs": [],
   "source": [
    "df3.to_csv('processedMinimumWage.csv', index = False)"
   ]
  }
 ],
 "metadata": {
  "kernelspec": {
   "display_name": "Python 3 (ipykernel)",
   "language": "python",
   "name": "python3"
  },
  "language_info": {
   "codemirror_mode": {
    "name": "ipython",
    "version": 3
   },
   "file_extension": ".py",
   "mimetype": "text/x-python",
   "name": "python",
   "nbconvert_exporter": "python",
   "pygments_lexer": "ipython3",
   "version": "3.9.7"
  }
 },
 "nbformat": 4,
 "nbformat_minor": 5
}

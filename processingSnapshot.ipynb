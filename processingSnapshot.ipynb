{
 "cells": [
  {
   "cell_type": "code",
   "execution_count": 11,
   "id": "e66ec4d8",
   "metadata": {},
   "outputs": [
    {
     "ename": "TypeError",
     "evalue": "the JSON object must be str, bytes or bytearray, not TextIOWrapper",
     "output_type": "error",
     "traceback": [
      "\u001b[0;31m---------------------------------------------------------------------------\u001b[0m",
      "\u001b[0;31mTypeError\u001b[0m                                 Traceback (most recent call last)",
      "\u001b[0;32m/tmp/ipykernel_37382/1971363749.py\u001b[0m in \u001b[0;36m<module>\u001b[0;34m\u001b[0m\n\u001b[1;32m      4\u001b[0m     \u001b[0mitem\u001b[0m\u001b[0;34m.\u001b[0m\u001b[0mpop\u001b[0m\u001b[0;34m(\u001b[0m\u001b[0mindex\u001b[0m\u001b[0;34m)\u001b[0m\u001b[0;34m\u001b[0m\u001b[0;34m\u001b[0m\u001b[0m\n\u001b[1;32m      5\u001b[0m \u001b[0;32mwith\u001b[0m \u001b[0mopen\u001b[0m\u001b[0;34m(\u001b[0m\u001b[0;34m\"spaces.json\"\u001b[0m\u001b[0;34m,\u001b[0m \u001b[0;34m\"r\"\u001b[0m\u001b[0;34m)\u001b[0m \u001b[0;32mas\u001b[0m \u001b[0mread_file\u001b[0m\u001b[0;34m:\u001b[0m\u001b[0;34m\u001b[0m\u001b[0;34m\u001b[0m\u001b[0m\n\u001b[0;32m----> 6\u001b[0;31m     \u001b[0mdata\u001b[0m \u001b[0;34m=\u001b[0m \u001b[0mjson\u001b[0m\u001b[0;34m.\u001b[0m\u001b[0mloads\u001b[0m\u001b[0;34m(\u001b[0m\u001b[0mread_file\u001b[0m\u001b[0;34m)\u001b[0m\u001b[0;34m\u001b[0m\u001b[0;34m\u001b[0m\u001b[0m\n\u001b[0m\u001b[1;32m      7\u001b[0m \u001b[0mdata\u001b[0m \u001b[0;34m=\u001b[0m \u001b[0mdata\u001b[0m\u001b[0;34m[\u001b[0m\u001b[0;34m'data'\u001b[0m\u001b[0;34m]\u001b[0m\u001b[0;34m\u001b[0m\u001b[0;34m\u001b[0m\u001b[0m\n\u001b[1;32m      8\u001b[0m \u001b[0mdata\u001b[0m \u001b[0;34m=\u001b[0m \u001b[0mdata\u001b[0m\u001b[0;34m[\u001b[0m\u001b[0;34m'spaces'\u001b[0m\u001b[0;34m]\u001b[0m\u001b[0;34m\u001b[0m\u001b[0;34m\u001b[0m\u001b[0m\n",
      "\u001b[0;32m~/anaconda3/lib/python3.9/json/__init__.py\u001b[0m in \u001b[0;36mloads\u001b[0;34m(s, cls, object_hook, parse_float, parse_int, parse_constant, object_pairs_hook, **kw)\u001b[0m\n\u001b[1;32m    337\u001b[0m     \u001b[0;32melse\u001b[0m\u001b[0;34m:\u001b[0m\u001b[0;34m\u001b[0m\u001b[0;34m\u001b[0m\u001b[0m\n\u001b[1;32m    338\u001b[0m         \u001b[0;32mif\u001b[0m \u001b[0;32mnot\u001b[0m \u001b[0misinstance\u001b[0m\u001b[0;34m(\u001b[0m\u001b[0ms\u001b[0m\u001b[0;34m,\u001b[0m \u001b[0;34m(\u001b[0m\u001b[0mbytes\u001b[0m\u001b[0;34m,\u001b[0m \u001b[0mbytearray\u001b[0m\u001b[0;34m)\u001b[0m\u001b[0;34m)\u001b[0m\u001b[0;34m:\u001b[0m\u001b[0;34m\u001b[0m\u001b[0;34m\u001b[0m\u001b[0m\n\u001b[0;32m--> 339\u001b[0;31m             raise TypeError(f'the JSON object must be str, bytes or bytearray, '\n\u001b[0m\u001b[1;32m    340\u001b[0m                             f'not {s.__class__.__name__}')\n\u001b[1;32m    341\u001b[0m         \u001b[0ms\u001b[0m \u001b[0;34m=\u001b[0m \u001b[0ms\u001b[0m\u001b[0;34m.\u001b[0m\u001b[0mdecode\u001b[0m\u001b[0;34m(\u001b[0m\u001b[0mdetect_encoding\u001b[0m\u001b[0;34m(\u001b[0m\u001b[0ms\u001b[0m\u001b[0;34m)\u001b[0m\u001b[0;34m,\u001b[0m \u001b[0;34m'surrogatepass'\u001b[0m\u001b[0;34m)\u001b[0m\u001b[0;34m\u001b[0m\u001b[0;34m\u001b[0m\u001b[0m\n",
      "\u001b[0;31mTypeError\u001b[0m: the JSON object must be str, bytes or bytearray, not TextIOWrapper"
     ]
    }
   ],
   "source": [
    "\n",
    "for token in tokens:\n",
    "    os.chdir(path + \"/spaces/\" + token)\n",
    "    print(token + \".csv\")\n",
    "    try:\n",
    "        dfs.append(pd.read_csv(token + \".csv\"))\n",
    "    except:\n",
    "        print(sys.exc_info()[0])\n",
    "        print(\"an exception occured with \" + token)\n",
    "    os.chdir(path)\n",
    "print(dfs[3])"
   ]
  },
  {
   "cell_type": "code",
   "execution_count": 13,
   "id": "c0985714",
   "metadata": {},
   "outputs": [
    {
     "ename": "SyntaxError",
     "evalue": "invalid syntax (1630612209.py, line 60)",
     "output_type": "error",
     "traceback": [
      "\u001b[0;36m  File \u001b[0;32m\"/tmp/ipykernel_12602/1630612209.py\"\u001b[0;36m, line \u001b[0;32m60\u001b[0m\n\u001b[0;31m    except:\u001b[0m\n\u001b[0m    ^\u001b[0m\n\u001b[0;31mSyntaxError\u001b[0m\u001b[0;31m:\u001b[0m invalid syntax\n"
     ]
    }
   ],
   "source": [
    "import pandas as pd\n",
    "import os\n",
    "import glob\n",
    "import sys\n",
    "import csv\n",
    "path = \"/home/jacob/Documents/College/seniorProject\"\n",
    "os.chdir(path)\n",
    "final = \"formattedVotes.csv\"\n",
    "header = ['spaceIndex', 'spaceId', 'spaceSymbol', 'spaceAddress', 'proposalId', 'proposalTitle', 'proposalBody', \n",
    "         'proposalChoices', 'proposalStart', 'proposalStart', 'proposalEnd', 'proposalSanpshot', 'proposalAuth',\n",
    "         'proposalSpace', 'voteId', 'voteVoter', 'voteCreated', 'voteChoice', 'voteSpace']\n",
    "\n",
    "\n",
    "with open(final, 'w', newline = '') as writeFile:\n",
    "    writer =csv.writer(writeFile)\n",
    "    writer.writeRow(header)\n",
    "    with open('snapshotSpaces.csv', newline='') as tokenFile:\n",
    "        tokenReader = csv.reader(tokenFile, delimiter=',')\n",
    "        tokenHeader = next(tokenReader)\n",
    "        #open the tokens file and read each proposal\n",
    "        for token in tokenReader:\n",
    "            try:\n",
    "          #      spaceIndex = token[0]\n",
    "          #      tokenName = token[1]\n",
    "          #      spaceSymbol = token[2]\n",
    "          #      spaceAddress = token[3]\n",
    "                os.chdir(path + \"/spaces/\" + tokenName)\n",
    "\n",
    "                #open each proposal and read their votes\n",
    "                with open((tokenName + \".csv\"), newline = '') as proposalFile:\n",
    "                    proposalReader = csv.reader(proposalFile, delimiter=',')\n",
    "                    proposalHeader = next(proposalReader)\n",
    "                    for proposal in proposalReader:\n",
    "                    #   proposalId = proposal[0]\n",
    "                    #   proposalTitle = proposal[1]\n",
    "                    #   proposalBody = proposal[2]\n",
    "                    #   proposalChoices = proposal[3]\n",
    "                    #   proposalStart = proposal[4]\n",
    "                    #   proposalEnd = proposal[5]\n",
    "                    #   proposalSnapshot = proposal[6]\n",
    "                    #   proposalAuth = proposal[7]\n",
    "                    #   proposalSpace = proposal[8]\n",
    "                        with open((proposalName + \".csv\"), newline = '') as voteFile:\n",
    "                            voteReader = csv.reader(voteFile, delimiter = ',')\n",
    "                            voteHeader = next(voteReader)\n",
    "                            #print(tokenHeader)\n",
    "                            #print(proposalHeader)\n",
    "                            #print(voteHeader)\n",
    "                            for vote in voteReader:\n",
    "                          #     voteId = vote[0]\n",
    "                          #     voteVoter = vote[1]\n",
    "                          #     voteCreated = vote[2]\n",
    "                          #     voteChoice = vote[3]\n",
    "                          #     voteSpace = vote[4]\n",
    "                                writer.writeRow[token[0], token[1], token[2], token[3], proposal[0], \n",
    "                                               proposal[1], proposal[2], proposal[3], proposal[4], \n",
    "                                               proposal[5], proposal[6], proposal[7], proposal[8], \n",
    "                                               vote[0], vote[1], vote[2], vote[3], vote[4]]\n",
    "                                #print(vote)\n",
    "                except:\n",
    "                    print(sys.exc_info()[0])\n",
    "                    print(\"an exception occured with \" + tokenName)\n",
    "                os.chdir(path)\n",
    "        \n",
    "    \n"
   ]
  },
  {
   "cell_type": "code",
   "execution_count": null,
   "id": "6440896c",
   "metadata": {},
   "outputs": [],
   "source": []
  },
  {
   "cell_type": "code",
   "execution_count": null,
   "id": "78464eed",
   "metadata": {},
   "outputs": [],
   "source": []
  }
 ],
 "metadata": {
  "kernelspec": {
   "display_name": "Python 3 (ipykernel)",
   "language": "python",
   "name": "python3"
  },
  "language_info": {
   "codemirror_mode": {
    "name": "ipython",
    "version": 3
   },
   "file_extension": ".py",
   "mimetype": "text/x-python",
   "name": "python",
   "nbconvert_exporter": "python",
   "pygments_lexer": "ipython3",
   "version": "3.9.7"
  }
 },
 "nbformat": 4,
 "nbformat_minor": 5
}
